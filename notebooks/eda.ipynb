{
 "cells": [
  {
   "cell_type": "code",
   "execution_count": 1,
   "id": "449f0b09",
   "metadata": {},
   "outputs": [],
   "source": [
    "import pandas as pd\n",
    "import matplotlib.pyplot as plt\n",
    "import seaborn as sns\n",
    "import numpy as np"
   ]
  },
  {
   "cell_type": "code",
   "execution_count": 7,
   "id": "c6dff98d",
   "metadata": {},
   "outputs": [
    {
     "data": {
      "text/plain": [
       "3136.6369863013697"
      ]
     },
     "execution_count": 7,
     "metadata": {},
     "output_type": "execute_result"
    }
   ],
   "source": [
    "df = pd.read_csv('../data/processed/feature_engineered_dataset.csv')\n",
    "df['Avg_Yield_Kg_Ha'].mean()"
   ]
  },
  {
   "cell_type": "code",
   "execution_count": 8,
   "id": "886760fe",
   "metadata": {},
   "outputs": [
    {
     "data": {
      "text/plain": [
       "0       97.297720\n",
       "1       97.297720\n",
       "2       99.814663\n",
       "3       97.297720\n",
       "4       99.814663\n",
       "          ...    \n",
       "141     97.894076\n",
       "142    135.421144\n",
       "143    137.494589\n",
       "144    133.732694\n",
       "145    101.759670\n",
       "Name: rfq, Length: 146, dtype: float64"
      ]
     },
     "execution_count": 8,
     "metadata": {},
     "output_type": "execute_result"
    }
   ],
   "source": [
    "df['rfq']"
   ]
  },
  {
   "cell_type": "code",
   "execution_count": null,
   "id": "10fc0c54",
   "metadata": {},
   "outputs": [],
   "source": []
  }
 ],
 "metadata": {
  "kernelspec": {
   "display_name": "base",
   "language": "python",
   "name": "python3"
  },
  "language_info": {
   "codemirror_mode": {
    "name": "ipython",
    "version": 3
   },
   "file_extension": ".py",
   "mimetype": "text/x-python",
   "name": "python",
   "nbconvert_exporter": "python",
   "pygments_lexer": "ipython3",
   "version": "3.11.7"
  }
 },
 "nbformat": 4,
 "nbformat_minor": 5
}
